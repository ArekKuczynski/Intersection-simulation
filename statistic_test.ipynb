{
 "cells": [
  {
   "cell_type": "code",
   "execution_count": 36,
   "metadata": {},
   "outputs": [],
   "source": [
    "efficiency_1 = [\n",
    "    0.20,\n",
    "    0.20,\n",
    "    0.19,\n",
    "    0.23,\n",
    "    0.24,\n",
    "    0.24,\n",
    "    0.26,\n",
    "    0.26,\n",
    "    0.26,\n",
    "    0.32,\n",
    "    0.31,\n",
    "    0.32,\n",
    "    0.36,\n",
    "    0.33,\n",
    "    0.37,\n",
    "    0.42,\n",
    "    0.41,\n",
    "    0.41\n",
    "]"
   ]
  },
  {
   "cell_type": "code",
   "execution_count": 37,
   "metadata": {},
   "outputs": [],
   "source": [
    "efficiency_2 = [\n",
    "    0.17,\n",
    "    0.18,\n",
    "    0.18,\n",
    "    0.22,\n",
    "    0.21,\n",
    "    0.20,\n",
    "    0.22,\n",
    "    0.20,\n",
    "    0.21,\n",
    "    0.26,\n",
    "    0.27,\n",
    "    0.26,\n",
    "    0.33,\n",
    "    0.32,\n",
    "    0.31,\n",
    "    0.32,\n",
    "    0.30,\n",
    "    0.31\n",
    "\n",
    "]"
   ]
  },
  {
   "cell_type": "code",
   "execution_count": 38,
   "metadata": {},
   "outputs": [],
   "source": [
    "combine_efficiency = []\n",
    "for i in range(len(efficiency_1)):\n",
    "    combine_efficiency.append(round(abs(efficiency_1[i]-efficiency_2[i]),2))"
   ]
  },
  {
   "cell_type": "code",
   "execution_count": 39,
   "metadata": {},
   "outputs": [
    {
     "data": {
      "text/plain": [
       "[0.03,\n",
       " 0.02,\n",
       " 0.01,\n",
       " 0.01,\n",
       " 0.03,\n",
       " 0.04,\n",
       " 0.04,\n",
       " 0.06,\n",
       " 0.05,\n",
       " 0.06,\n",
       " 0.04,\n",
       " 0.06,\n",
       " 0.03,\n",
       " 0.01,\n",
       " 0.06,\n",
       " 0.1,\n",
       " 0.11,\n",
       " 0.1]"
      ]
     },
     "execution_count": 39,
     "metadata": {},
     "output_type": "execute_result"
    }
   ],
   "source": [
    "combine_efficiency"
   ]
  },
  {
   "cell_type": "code",
   "execution_count": 40,
   "metadata": {},
   "outputs": [
    {
     "data": {
      "text/html": [
       "<div>\n",
       "<style scoped>\n",
       "    .dataframe tbody tr th:only-of-type {\n",
       "        vertical-align: middle;\n",
       "    }\n",
       "\n",
       "    .dataframe tbody tr th {\n",
       "        vertical-align: top;\n",
       "    }\n",
       "\n",
       "    .dataframe thead th {\n",
       "        text-align: right;\n",
       "    }\n",
       "</style>\n",
       "<table border=\"1\" class=\"dataframe\">\n",
       "  <thead>\n",
       "    <tr style=\"text-align: right;\">\n",
       "      <th></th>\n",
       "      <th>Combined</th>\n",
       "    </tr>\n",
       "  </thead>\n",
       "  <tbody>\n",
       "    <tr>\n",
       "      <th>0</th>\n",
       "      <td>0.03</td>\n",
       "    </tr>\n",
       "    <tr>\n",
       "      <th>1</th>\n",
       "      <td>0.02</td>\n",
       "    </tr>\n",
       "    <tr>\n",
       "      <th>2</th>\n",
       "      <td>0.01</td>\n",
       "    </tr>\n",
       "    <tr>\n",
       "      <th>3</th>\n",
       "      <td>0.01</td>\n",
       "    </tr>\n",
       "    <tr>\n",
       "      <th>4</th>\n",
       "      <td>0.03</td>\n",
       "    </tr>\n",
       "    <tr>\n",
       "      <th>5</th>\n",
       "      <td>0.04</td>\n",
       "    </tr>\n",
       "    <tr>\n",
       "      <th>6</th>\n",
       "      <td>0.04</td>\n",
       "    </tr>\n",
       "    <tr>\n",
       "      <th>7</th>\n",
       "      <td>0.06</td>\n",
       "    </tr>\n",
       "    <tr>\n",
       "      <th>8</th>\n",
       "      <td>0.05</td>\n",
       "    </tr>\n",
       "    <tr>\n",
       "      <th>9</th>\n",
       "      <td>0.06</td>\n",
       "    </tr>\n",
       "    <tr>\n",
       "      <th>10</th>\n",
       "      <td>0.04</td>\n",
       "    </tr>\n",
       "    <tr>\n",
       "      <th>11</th>\n",
       "      <td>0.06</td>\n",
       "    </tr>\n",
       "    <tr>\n",
       "      <th>12</th>\n",
       "      <td>0.03</td>\n",
       "    </tr>\n",
       "    <tr>\n",
       "      <th>13</th>\n",
       "      <td>0.01</td>\n",
       "    </tr>\n",
       "    <tr>\n",
       "      <th>14</th>\n",
       "      <td>0.06</td>\n",
       "    </tr>\n",
       "    <tr>\n",
       "      <th>15</th>\n",
       "      <td>0.10</td>\n",
       "    </tr>\n",
       "    <tr>\n",
       "      <th>16</th>\n",
       "      <td>0.11</td>\n",
       "    </tr>\n",
       "    <tr>\n",
       "      <th>17</th>\n",
       "      <td>0.10</td>\n",
       "    </tr>\n",
       "  </tbody>\n",
       "</table>\n",
       "</div>"
      ],
      "text/plain": [
       "    Combined\n",
       "0       0.03\n",
       "1       0.02\n",
       "2       0.01\n",
       "3       0.01\n",
       "4       0.03\n",
       "5       0.04\n",
       "6       0.04\n",
       "7       0.06\n",
       "8       0.05\n",
       "9       0.06\n",
       "10      0.04\n",
       "11      0.06\n",
       "12      0.03\n",
       "13      0.01\n",
       "14      0.06\n",
       "15      0.10\n",
       "16      0.11\n",
       "17      0.10"
      ]
     },
     "execution_count": 40,
     "metadata": {},
     "output_type": "execute_result"
    }
   ],
   "source": [
    "import pandas as pd\n",
    "data = pd.DataFrame(combine_efficiency,columns=['Combined'])\n",
    "data"
   ]
  },
  {
   "cell_type": "code",
   "execution_count": 41,
   "metadata": {},
   "outputs": [
    {
     "data": {
      "text/plain": [
       "Combined    0.047778\n",
       "dtype: float64"
      ]
     },
     "execution_count": 41,
     "metadata": {},
     "output_type": "execute_result"
    }
   ],
   "source": [
    "data.mean()"
   ]
  },
  {
   "cell_type": "markdown",
   "metadata": {},
   "source": [
    "Test jednostronny"
   ]
  },
  {
   "cell_type": "code",
   "execution_count": 56,
   "metadata": {},
   "outputs": [
    {
     "name": "stdout",
     "output_type": "stream",
     "text": [
      "Statystyka t: 6.58\n",
      "P-wartość: 2.3e-06\n",
      "Odrzucam H0, przyjmuje Ha\n"
     ]
    }
   ],
   "source": [
    "import numpy as np\n",
    "from scipy import stats\n",
    "\n",
    "t_stat, p_value = stats.ttest_1samp(data, 0, alternative='greater')\n",
    "\n",
    "print(f\"Statystyka t: {round(t_stat[0],2)}\")\n",
    "print(f\"P-wartość: {round(p_value[0],7)}\")\n",
    "\n",
    "if p_value < 0.05:\n",
    "    print(\"Odrzucam H0, przyjmuje Ha\")\n",
    "else:\n",
    "    print(\"Odrzucam Ha, przyjmuje H0\")\n"
   ]
  }
 ],
 "metadata": {
  "kernelspec": {
   "display_name": ".venv",
   "language": "python",
   "name": "python3"
  },
  "language_info": {
   "codemirror_mode": {
    "name": "ipython",
    "version": 3
   },
   "file_extension": ".py",
   "mimetype": "text/x-python",
   "name": "python",
   "nbconvert_exporter": "python",
   "pygments_lexer": "ipython3",
   "version": "3.12.3"
  }
 },
 "nbformat": 4,
 "nbformat_minor": 2
}
